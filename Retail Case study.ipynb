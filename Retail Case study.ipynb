{
 "cells": [
  {
   "cell_type": "markdown",
   "id": "a7f78982",
   "metadata": {},
   "source": [
    "## Required Packages"
   ]
  },
  {
   "cell_type": "code",
   "execution_count": 27,
   "id": "0d5a0f02",
   "metadata": {},
   "outputs": [],
   "source": [
    "import pandas as pd\n",
    "import numpy as np\n",
    "import matplotlib.pyplot as plt\n",
    "import seaborn as sns\n",
    "import datetime as dt"
   ]
  },
  {
   "cell_type": "markdown",
   "id": "cffb2c1a",
   "metadata": {},
   "source": [
    "## Datasets"
   ]
  },
  {
   "cell_type": "code",
   "execution_count": 3,
   "id": "8675f187",
   "metadata": {},
   "outputs": [],
   "source": [
    "customer = pd.read_csv('C:/Users/Nithin/Downloads/Python Foundation Case Study 1 - Retail Case Study/Customer.csv')\n",
    "prod_cat = pd.read_csv('C:/Users/Nithin/Downloads/Python Foundation Case Study 1 - Retail Case Study/prod_cat_info.csv')\n",
    "transac = pd.read_csv('C:/Users/Nithin/Downloads/Python Foundation Case Study 1 - Retail Case Study/Transactions.csv')"
   ]
  },
  {
   "cell_type": "markdown",
   "id": "789ef514",
   "metadata": {},
   "source": [
    "### 1.\tMerge the datasets Customers, Product Hierarchy and Transactions as Customer_Final. Ensure to keep all customers who have done transactions with us and select the join type accordingly."
   ]
  },
  {
   "cell_type": "code",
   "execution_count": 4,
   "id": "ad27f34f",
   "metadata": {},
   "outputs": [],
   "source": [
    "customer_final = pd.merge(left = transac, right = customer,how='inner',left_on='cust_id',right_on='customer_Id')\n",
    "customer_final = pd.merge(left = customer_final, right = prod_cat,how='inner',left_on='prod_cat_code',right_on='prod_cat_code')"
   ]
  },
  {
   "cell_type": "code",
   "execution_count": 5,
   "id": "5804ece5",
   "metadata": {},
   "outputs": [
    {
     "data": {
      "text/html": [
       "<div>\n",
       "<style scoped>\n",
       "    .dataframe tbody tr th:only-of-type {\n",
       "        vertical-align: middle;\n",
       "    }\n",
       "\n",
       "    .dataframe tbody tr th {\n",
       "        vertical-align: top;\n",
       "    }\n",
       "\n",
       "    .dataframe thead th {\n",
       "        text-align: right;\n",
       "    }\n",
       "</style>\n",
       "<table border=\"1\" class=\"dataframe\">\n",
       "  <thead>\n",
       "    <tr style=\"text-align: right;\">\n",
       "      <th></th>\n",
       "      <th>transaction_id</th>\n",
       "      <th>cust_id</th>\n",
       "      <th>tran_date</th>\n",
       "      <th>prod_subcat_code</th>\n",
       "      <th>prod_cat_code</th>\n",
       "      <th>Qty</th>\n",
       "      <th>Rate</th>\n",
       "      <th>Tax</th>\n",
       "      <th>total_amt</th>\n",
       "      <th>Store_type</th>\n",
       "      <th>customer_Id</th>\n",
       "      <th>DOB</th>\n",
       "      <th>Gender</th>\n",
       "      <th>city_code</th>\n",
       "      <th>prod_cat</th>\n",
       "      <th>prod_sub_cat_code</th>\n",
       "      <th>prod_subcat</th>\n",
       "    </tr>\n",
       "  </thead>\n",
       "  <tbody>\n",
       "    <tr>\n",
       "      <th>0</th>\n",
       "      <td>80712190438</td>\n",
       "      <td>270351</td>\n",
       "      <td>28-02-2014</td>\n",
       "      <td>1</td>\n",
       "      <td>1</td>\n",
       "      <td>-5</td>\n",
       "      <td>-772</td>\n",
       "      <td>405.30</td>\n",
       "      <td>-4265.30</td>\n",
       "      <td>e-Shop</td>\n",
       "      <td>270351</td>\n",
       "      <td>26-09-1981</td>\n",
       "      <td>M</td>\n",
       "      <td>5.0</td>\n",
       "      <td>Clothing</td>\n",
       "      <td>4</td>\n",
       "      <td>Mens</td>\n",
       "    </tr>\n",
       "    <tr>\n",
       "      <th>1</th>\n",
       "      <td>80712190438</td>\n",
       "      <td>270351</td>\n",
       "      <td>28-02-2014</td>\n",
       "      <td>1</td>\n",
       "      <td>1</td>\n",
       "      <td>-5</td>\n",
       "      <td>-772</td>\n",
       "      <td>405.30</td>\n",
       "      <td>-4265.30</td>\n",
       "      <td>e-Shop</td>\n",
       "      <td>270351</td>\n",
       "      <td>26-09-1981</td>\n",
       "      <td>M</td>\n",
       "      <td>5.0</td>\n",
       "      <td>Clothing</td>\n",
       "      <td>1</td>\n",
       "      <td>Women</td>\n",
       "    </tr>\n",
       "    <tr>\n",
       "      <th>2</th>\n",
       "      <td>80712190438</td>\n",
       "      <td>270351</td>\n",
       "      <td>28-02-2014</td>\n",
       "      <td>1</td>\n",
       "      <td>1</td>\n",
       "      <td>-5</td>\n",
       "      <td>-772</td>\n",
       "      <td>405.30</td>\n",
       "      <td>-4265.30</td>\n",
       "      <td>e-Shop</td>\n",
       "      <td>270351</td>\n",
       "      <td>26-09-1981</td>\n",
       "      <td>M</td>\n",
       "      <td>5.0</td>\n",
       "      <td>Clothing</td>\n",
       "      <td>3</td>\n",
       "      <td>Kids</td>\n",
       "    </tr>\n",
       "    <tr>\n",
       "      <th>3</th>\n",
       "      <td>80712190438</td>\n",
       "      <td>270351</td>\n",
       "      <td>20-02-2014</td>\n",
       "      <td>1</td>\n",
       "      <td>1</td>\n",
       "      <td>5</td>\n",
       "      <td>772</td>\n",
       "      <td>405.30</td>\n",
       "      <td>4265.30</td>\n",
       "      <td>e-Shop</td>\n",
       "      <td>270351</td>\n",
       "      <td>26-09-1981</td>\n",
       "      <td>M</td>\n",
       "      <td>5.0</td>\n",
       "      <td>Clothing</td>\n",
       "      <td>4</td>\n",
       "      <td>Mens</td>\n",
       "    </tr>\n",
       "    <tr>\n",
       "      <th>4</th>\n",
       "      <td>80712190438</td>\n",
       "      <td>270351</td>\n",
       "      <td>20-02-2014</td>\n",
       "      <td>1</td>\n",
       "      <td>1</td>\n",
       "      <td>5</td>\n",
       "      <td>772</td>\n",
       "      <td>405.30</td>\n",
       "      <td>4265.30</td>\n",
       "      <td>e-Shop</td>\n",
       "      <td>270351</td>\n",
       "      <td>26-09-1981</td>\n",
       "      <td>M</td>\n",
       "      <td>5.0</td>\n",
       "      <td>Clothing</td>\n",
       "      <td>1</td>\n",
       "      <td>Women</td>\n",
       "    </tr>\n",
       "    <tr>\n",
       "      <th>...</th>\n",
       "      <td>...</td>\n",
       "      <td>...</td>\n",
       "      <td>...</td>\n",
       "      <td>...</td>\n",
       "      <td>...</td>\n",
       "      <td>...</td>\n",
       "      <td>...</td>\n",
       "      <td>...</td>\n",
       "      <td>...</td>\n",
       "      <td>...</td>\n",
       "      <td>...</td>\n",
       "      <td>...</td>\n",
       "      <td>...</td>\n",
       "      <td>...</td>\n",
       "      <td>...</td>\n",
       "      <td>...</td>\n",
       "      <td>...</td>\n",
       "    </tr>\n",
       "    <tr>\n",
       "      <th>99288</th>\n",
       "      <td>65823235153</td>\n",
       "      <td>272650</td>\n",
       "      <td>16-02-2011</td>\n",
       "      <td>11</td>\n",
       "      <td>6</td>\n",
       "      <td>2</td>\n",
       "      <td>358</td>\n",
       "      <td>75.18</td>\n",
       "      <td>791.18</td>\n",
       "      <td>e-Shop</td>\n",
       "      <td>272650</td>\n",
       "      <td>28-02-1990</td>\n",
       "      <td>M</td>\n",
       "      <td>2.0</td>\n",
       "      <td>Home and kitchen</td>\n",
       "      <td>12</td>\n",
       "      <td>Tools</td>\n",
       "    </tr>\n",
       "    <tr>\n",
       "      <th>99289</th>\n",
       "      <td>20417144530</td>\n",
       "      <td>269556</td>\n",
       "      <td>29-01-2011</td>\n",
       "      <td>10</td>\n",
       "      <td>6</td>\n",
       "      <td>3</td>\n",
       "      <td>654</td>\n",
       "      <td>206.01</td>\n",
       "      <td>2168.01</td>\n",
       "      <td>Flagship store</td>\n",
       "      <td>269556</td>\n",
       "      <td>27-12-1972</td>\n",
       "      <td>M</td>\n",
       "      <td>5.0</td>\n",
       "      <td>Home and kitchen</td>\n",
       "      <td>2</td>\n",
       "      <td>Furnishing</td>\n",
       "    </tr>\n",
       "    <tr>\n",
       "      <th>99290</th>\n",
       "      <td>20417144530</td>\n",
       "      <td>269556</td>\n",
       "      <td>29-01-2011</td>\n",
       "      <td>10</td>\n",
       "      <td>6</td>\n",
       "      <td>3</td>\n",
       "      <td>654</td>\n",
       "      <td>206.01</td>\n",
       "      <td>2168.01</td>\n",
       "      <td>Flagship store</td>\n",
       "      <td>269556</td>\n",
       "      <td>27-12-1972</td>\n",
       "      <td>M</td>\n",
       "      <td>5.0</td>\n",
       "      <td>Home and kitchen</td>\n",
       "      <td>10</td>\n",
       "      <td>Kitchen</td>\n",
       "    </tr>\n",
       "    <tr>\n",
       "      <th>99291</th>\n",
       "      <td>20417144530</td>\n",
       "      <td>269556</td>\n",
       "      <td>29-01-2011</td>\n",
       "      <td>10</td>\n",
       "      <td>6</td>\n",
       "      <td>3</td>\n",
       "      <td>654</td>\n",
       "      <td>206.01</td>\n",
       "      <td>2168.01</td>\n",
       "      <td>Flagship store</td>\n",
       "      <td>269556</td>\n",
       "      <td>27-12-1972</td>\n",
       "      <td>M</td>\n",
       "      <td>5.0</td>\n",
       "      <td>Home and kitchen</td>\n",
       "      <td>11</td>\n",
       "      <td>Bath</td>\n",
       "    </tr>\n",
       "    <tr>\n",
       "      <th>99292</th>\n",
       "      <td>20417144530</td>\n",
       "      <td>269556</td>\n",
       "      <td>29-01-2011</td>\n",
       "      <td>10</td>\n",
       "      <td>6</td>\n",
       "      <td>3</td>\n",
       "      <td>654</td>\n",
       "      <td>206.01</td>\n",
       "      <td>2168.01</td>\n",
       "      <td>Flagship store</td>\n",
       "      <td>269556</td>\n",
       "      <td>27-12-1972</td>\n",
       "      <td>M</td>\n",
       "      <td>5.0</td>\n",
       "      <td>Home and kitchen</td>\n",
       "      <td>12</td>\n",
       "      <td>Tools</td>\n",
       "    </tr>\n",
       "  </tbody>\n",
       "</table>\n",
       "<p>99293 rows × 17 columns</p>\n",
       "</div>"
      ],
      "text/plain": [
       "       transaction_id  cust_id   tran_date  prod_subcat_code  prod_cat_code  \\\n",
       "0         80712190438   270351  28-02-2014                 1              1   \n",
       "1         80712190438   270351  28-02-2014                 1              1   \n",
       "2         80712190438   270351  28-02-2014                 1              1   \n",
       "3         80712190438   270351  20-02-2014                 1              1   \n",
       "4         80712190438   270351  20-02-2014                 1              1   \n",
       "...               ...      ...         ...               ...            ...   \n",
       "99288     65823235153   272650  16-02-2011                11              6   \n",
       "99289     20417144530   269556  29-01-2011                10              6   \n",
       "99290     20417144530   269556  29-01-2011                10              6   \n",
       "99291     20417144530   269556  29-01-2011                10              6   \n",
       "99292     20417144530   269556  29-01-2011                10              6   \n",
       "\n",
       "       Qty  Rate     Tax  total_amt      Store_type  customer_Id         DOB  \\\n",
       "0       -5  -772  405.30   -4265.30          e-Shop       270351  26-09-1981   \n",
       "1       -5  -772  405.30   -4265.30          e-Shop       270351  26-09-1981   \n",
       "2       -5  -772  405.30   -4265.30          e-Shop       270351  26-09-1981   \n",
       "3        5   772  405.30    4265.30          e-Shop       270351  26-09-1981   \n",
       "4        5   772  405.30    4265.30          e-Shop       270351  26-09-1981   \n",
       "...    ...   ...     ...        ...             ...          ...         ...   \n",
       "99288    2   358   75.18     791.18          e-Shop       272650  28-02-1990   \n",
       "99289    3   654  206.01    2168.01  Flagship store       269556  27-12-1972   \n",
       "99290    3   654  206.01    2168.01  Flagship store       269556  27-12-1972   \n",
       "99291    3   654  206.01    2168.01  Flagship store       269556  27-12-1972   \n",
       "99292    3   654  206.01    2168.01  Flagship store       269556  27-12-1972   \n",
       "\n",
       "      Gender  city_code          prod_cat  prod_sub_cat_code prod_subcat  \n",
       "0          M        5.0          Clothing                  4        Mens  \n",
       "1          M        5.0          Clothing                  1       Women  \n",
       "2          M        5.0          Clothing                  3        Kids  \n",
       "3          M        5.0          Clothing                  4        Mens  \n",
       "4          M        5.0          Clothing                  1       Women  \n",
       "...      ...        ...               ...                ...         ...  \n",
       "99288      M        2.0  Home and kitchen                 12       Tools  \n",
       "99289      M        5.0  Home and kitchen                  2  Furnishing  \n",
       "99290      M        5.0  Home and kitchen                 10     Kitchen  \n",
       "99291      M        5.0  Home and kitchen                 11        Bath  \n",
       "99292      M        5.0  Home and kitchen                 12       Tools  \n",
       "\n",
       "[99293 rows x 17 columns]"
      ]
     },
     "execution_count": 5,
     "metadata": {},
     "output_type": "execute_result"
    }
   ],
   "source": [
    "customer_final"
   ]
  },
  {
   "cell_type": "markdown",
   "id": "f7101fcc",
   "metadata": {},
   "source": [
    "### 2.\tPrepare a summary report for the merged data set.\n",
    "#####     a.\tGet the column names and their corresponding data types\n",
    "#####     b.\tTop/Bottom 10 observations\n",
    "#####     c.\t\t“Five-number summary” for continuous variables (min, Q1, median, Q3 and max)\n",
    "#####     d.\tFrequency tables for all the categorical variables"
   ]
  },
  {
   "cell_type": "code",
   "execution_count": 6,
   "id": "f97db625",
   "metadata": {},
   "outputs": [
    {
     "data": {
      "text/plain": [
       "transaction_id         int64\n",
       "cust_id                int64\n",
       "tran_date             object\n",
       "prod_subcat_code       int64\n",
       "prod_cat_code          int64\n",
       "Qty                    int64\n",
       "Rate                   int64\n",
       "Tax                  float64\n",
       "total_amt            float64\n",
       "Store_type            object\n",
       "customer_Id            int64\n",
       "DOB                   object\n",
       "Gender                object\n",
       "city_code            float64\n",
       "prod_cat              object\n",
       "prod_sub_cat_code      int64\n",
       "prod_subcat           object\n",
       "dtype: object"
      ]
     },
     "execution_count": 6,
     "metadata": {},
     "output_type": "execute_result"
    }
   ],
   "source": [
    "#a.\n",
    "customer_final.dtypes"
   ]
  },
  {
   "cell_type": "code",
   "execution_count": 7,
   "id": "0e3cd46a",
   "metadata": {},
   "outputs": [
    {
     "data": {
      "text/html": [
       "<div>\n",
       "<style scoped>\n",
       "    .dataframe tbody tr th:only-of-type {\n",
       "        vertical-align: middle;\n",
       "    }\n",
       "\n",
       "    .dataframe tbody tr th {\n",
       "        vertical-align: top;\n",
       "    }\n",
       "\n",
       "    .dataframe thead th {\n",
       "        text-align: right;\n",
       "    }\n",
       "</style>\n",
       "<table border=\"1\" class=\"dataframe\">\n",
       "  <thead>\n",
       "    <tr style=\"text-align: right;\">\n",
       "      <th></th>\n",
       "      <th>transaction_id</th>\n",
       "      <th>cust_id</th>\n",
       "      <th>tran_date</th>\n",
       "      <th>prod_subcat_code</th>\n",
       "      <th>prod_cat_code</th>\n",
       "      <th>Qty</th>\n",
       "      <th>Rate</th>\n",
       "      <th>Tax</th>\n",
       "      <th>total_amt</th>\n",
       "      <th>Store_type</th>\n",
       "      <th>customer_Id</th>\n",
       "      <th>DOB</th>\n",
       "      <th>Gender</th>\n",
       "      <th>city_code</th>\n",
       "      <th>prod_cat</th>\n",
       "      <th>prod_sub_cat_code</th>\n",
       "      <th>prod_subcat</th>\n",
       "    </tr>\n",
       "  </thead>\n",
       "  <tbody>\n",
       "    <tr>\n",
       "      <th>99283</th>\n",
       "      <td>34958490122</td>\n",
       "      <td>266849</td>\n",
       "      <td>20-02-2011</td>\n",
       "      <td>12</td>\n",
       "      <td>6</td>\n",
       "      <td>4</td>\n",
       "      <td>1155</td>\n",
       "      <td>485.10</td>\n",
       "      <td>5105.10</td>\n",
       "      <td>e-Shop</td>\n",
       "      <td>266849</td>\n",
       "      <td>12-10-1979</td>\n",
       "      <td>M</td>\n",
       "      <td>1.0</td>\n",
       "      <td>Home and kitchen</td>\n",
       "      <td>11</td>\n",
       "      <td>Bath</td>\n",
       "    </tr>\n",
       "    <tr>\n",
       "      <th>99284</th>\n",
       "      <td>34958490122</td>\n",
       "      <td>266849</td>\n",
       "      <td>20-02-2011</td>\n",
       "      <td>12</td>\n",
       "      <td>6</td>\n",
       "      <td>4</td>\n",
       "      <td>1155</td>\n",
       "      <td>485.10</td>\n",
       "      <td>5105.10</td>\n",
       "      <td>e-Shop</td>\n",
       "      <td>266849</td>\n",
       "      <td>12-10-1979</td>\n",
       "      <td>M</td>\n",
       "      <td>1.0</td>\n",
       "      <td>Home and kitchen</td>\n",
       "      <td>12</td>\n",
       "      <td>Tools</td>\n",
       "    </tr>\n",
       "    <tr>\n",
       "      <th>99285</th>\n",
       "      <td>65823235153</td>\n",
       "      <td>272650</td>\n",
       "      <td>16-02-2011</td>\n",
       "      <td>11</td>\n",
       "      <td>6</td>\n",
       "      <td>2</td>\n",
       "      <td>358</td>\n",
       "      <td>75.18</td>\n",
       "      <td>791.18</td>\n",
       "      <td>e-Shop</td>\n",
       "      <td>272650</td>\n",
       "      <td>28-02-1990</td>\n",
       "      <td>M</td>\n",
       "      <td>2.0</td>\n",
       "      <td>Home and kitchen</td>\n",
       "      <td>2</td>\n",
       "      <td>Furnishing</td>\n",
       "    </tr>\n",
       "    <tr>\n",
       "      <th>99286</th>\n",
       "      <td>65823235153</td>\n",
       "      <td>272650</td>\n",
       "      <td>16-02-2011</td>\n",
       "      <td>11</td>\n",
       "      <td>6</td>\n",
       "      <td>2</td>\n",
       "      <td>358</td>\n",
       "      <td>75.18</td>\n",
       "      <td>791.18</td>\n",
       "      <td>e-Shop</td>\n",
       "      <td>272650</td>\n",
       "      <td>28-02-1990</td>\n",
       "      <td>M</td>\n",
       "      <td>2.0</td>\n",
       "      <td>Home and kitchen</td>\n",
       "      <td>10</td>\n",
       "      <td>Kitchen</td>\n",
       "    </tr>\n",
       "    <tr>\n",
       "      <th>99287</th>\n",
       "      <td>65823235153</td>\n",
       "      <td>272650</td>\n",
       "      <td>16-02-2011</td>\n",
       "      <td>11</td>\n",
       "      <td>6</td>\n",
       "      <td>2</td>\n",
       "      <td>358</td>\n",
       "      <td>75.18</td>\n",
       "      <td>791.18</td>\n",
       "      <td>e-Shop</td>\n",
       "      <td>272650</td>\n",
       "      <td>28-02-1990</td>\n",
       "      <td>M</td>\n",
       "      <td>2.0</td>\n",
       "      <td>Home and kitchen</td>\n",
       "      <td>11</td>\n",
       "      <td>Bath</td>\n",
       "    </tr>\n",
       "    <tr>\n",
       "      <th>99288</th>\n",
       "      <td>65823235153</td>\n",
       "      <td>272650</td>\n",
       "      <td>16-02-2011</td>\n",
       "      <td>11</td>\n",
       "      <td>6</td>\n",
       "      <td>2</td>\n",
       "      <td>358</td>\n",
       "      <td>75.18</td>\n",
       "      <td>791.18</td>\n",
       "      <td>e-Shop</td>\n",
       "      <td>272650</td>\n",
       "      <td>28-02-1990</td>\n",
       "      <td>M</td>\n",
       "      <td>2.0</td>\n",
       "      <td>Home and kitchen</td>\n",
       "      <td>12</td>\n",
       "      <td>Tools</td>\n",
       "    </tr>\n",
       "    <tr>\n",
       "      <th>99289</th>\n",
       "      <td>20417144530</td>\n",
       "      <td>269556</td>\n",
       "      <td>29-01-2011</td>\n",
       "      <td>10</td>\n",
       "      <td>6</td>\n",
       "      <td>3</td>\n",
       "      <td>654</td>\n",
       "      <td>206.01</td>\n",
       "      <td>2168.01</td>\n",
       "      <td>Flagship store</td>\n",
       "      <td>269556</td>\n",
       "      <td>27-12-1972</td>\n",
       "      <td>M</td>\n",
       "      <td>5.0</td>\n",
       "      <td>Home and kitchen</td>\n",
       "      <td>2</td>\n",
       "      <td>Furnishing</td>\n",
       "    </tr>\n",
       "    <tr>\n",
       "      <th>99290</th>\n",
       "      <td>20417144530</td>\n",
       "      <td>269556</td>\n",
       "      <td>29-01-2011</td>\n",
       "      <td>10</td>\n",
       "      <td>6</td>\n",
       "      <td>3</td>\n",
       "      <td>654</td>\n",
       "      <td>206.01</td>\n",
       "      <td>2168.01</td>\n",
       "      <td>Flagship store</td>\n",
       "      <td>269556</td>\n",
       "      <td>27-12-1972</td>\n",
       "      <td>M</td>\n",
       "      <td>5.0</td>\n",
       "      <td>Home and kitchen</td>\n",
       "      <td>10</td>\n",
       "      <td>Kitchen</td>\n",
       "    </tr>\n",
       "    <tr>\n",
       "      <th>99291</th>\n",
       "      <td>20417144530</td>\n",
       "      <td>269556</td>\n",
       "      <td>29-01-2011</td>\n",
       "      <td>10</td>\n",
       "      <td>6</td>\n",
       "      <td>3</td>\n",
       "      <td>654</td>\n",
       "      <td>206.01</td>\n",
       "      <td>2168.01</td>\n",
       "      <td>Flagship store</td>\n",
       "      <td>269556</td>\n",
       "      <td>27-12-1972</td>\n",
       "      <td>M</td>\n",
       "      <td>5.0</td>\n",
       "      <td>Home and kitchen</td>\n",
       "      <td>11</td>\n",
       "      <td>Bath</td>\n",
       "    </tr>\n",
       "    <tr>\n",
       "      <th>99292</th>\n",
       "      <td>20417144530</td>\n",
       "      <td>269556</td>\n",
       "      <td>29-01-2011</td>\n",
       "      <td>10</td>\n",
       "      <td>6</td>\n",
       "      <td>3</td>\n",
       "      <td>654</td>\n",
       "      <td>206.01</td>\n",
       "      <td>2168.01</td>\n",
       "      <td>Flagship store</td>\n",
       "      <td>269556</td>\n",
       "      <td>27-12-1972</td>\n",
       "      <td>M</td>\n",
       "      <td>5.0</td>\n",
       "      <td>Home and kitchen</td>\n",
       "      <td>12</td>\n",
       "      <td>Tools</td>\n",
       "    </tr>\n",
       "  </tbody>\n",
       "</table>\n",
       "</div>"
      ],
      "text/plain": [
       "       transaction_id  cust_id   tran_date  prod_subcat_code  prod_cat_code  \\\n",
       "99283     34958490122   266849  20-02-2011                12              6   \n",
       "99284     34958490122   266849  20-02-2011                12              6   \n",
       "99285     65823235153   272650  16-02-2011                11              6   \n",
       "99286     65823235153   272650  16-02-2011                11              6   \n",
       "99287     65823235153   272650  16-02-2011                11              6   \n",
       "99288     65823235153   272650  16-02-2011                11              6   \n",
       "99289     20417144530   269556  29-01-2011                10              6   \n",
       "99290     20417144530   269556  29-01-2011                10              6   \n",
       "99291     20417144530   269556  29-01-2011                10              6   \n",
       "99292     20417144530   269556  29-01-2011                10              6   \n",
       "\n",
       "       Qty  Rate     Tax  total_amt      Store_type  customer_Id         DOB  \\\n",
       "99283    4  1155  485.10    5105.10          e-Shop       266849  12-10-1979   \n",
       "99284    4  1155  485.10    5105.10          e-Shop       266849  12-10-1979   \n",
       "99285    2   358   75.18     791.18          e-Shop       272650  28-02-1990   \n",
       "99286    2   358   75.18     791.18          e-Shop       272650  28-02-1990   \n",
       "99287    2   358   75.18     791.18          e-Shop       272650  28-02-1990   \n",
       "99288    2   358   75.18     791.18          e-Shop       272650  28-02-1990   \n",
       "99289    3   654  206.01    2168.01  Flagship store       269556  27-12-1972   \n",
       "99290    3   654  206.01    2168.01  Flagship store       269556  27-12-1972   \n",
       "99291    3   654  206.01    2168.01  Flagship store       269556  27-12-1972   \n",
       "99292    3   654  206.01    2168.01  Flagship store       269556  27-12-1972   \n",
       "\n",
       "      Gender  city_code          prod_cat  prod_sub_cat_code prod_subcat  \n",
       "99283      M        1.0  Home and kitchen                 11        Bath  \n",
       "99284      M        1.0  Home and kitchen                 12       Tools  \n",
       "99285      M        2.0  Home and kitchen                  2  Furnishing  \n",
       "99286      M        2.0  Home and kitchen                 10     Kitchen  \n",
       "99287      M        2.0  Home and kitchen                 11        Bath  \n",
       "99288      M        2.0  Home and kitchen                 12       Tools  \n",
       "99289      M        5.0  Home and kitchen                  2  Furnishing  \n",
       "99290      M        5.0  Home and kitchen                 10     Kitchen  \n",
       "99291      M        5.0  Home and kitchen                 11        Bath  \n",
       "99292      M        5.0  Home and kitchen                 12       Tools  "
      ]
     },
     "execution_count": 7,
     "metadata": {},
     "output_type": "execute_result"
    }
   ],
   "source": [
    "#b.\n",
    "customer_final.head(10)\n",
    "customer_final.tail(10)"
   ]
  },
  {
   "cell_type": "code",
   "execution_count": 8,
   "id": "48ea4662",
   "metadata": {},
   "outputs": [
    {
     "data": {
      "text/html": [
       "<div>\n",
       "<style scoped>\n",
       "    .dataframe tbody tr th:only-of-type {\n",
       "        vertical-align: middle;\n",
       "    }\n",
       "\n",
       "    .dataframe tbody tr th {\n",
       "        vertical-align: top;\n",
       "    }\n",
       "\n",
       "    .dataframe thead th {\n",
       "        text-align: right;\n",
       "    }\n",
       "</style>\n",
       "<table border=\"1\" class=\"dataframe\">\n",
       "  <thead>\n",
       "    <tr style=\"text-align: right;\">\n",
       "      <th></th>\n",
       "      <th>count</th>\n",
       "      <th>mean</th>\n",
       "      <th>std</th>\n",
       "      <th>min</th>\n",
       "      <th>25%</th>\n",
       "      <th>50%</th>\n",
       "      <th>75%</th>\n",
       "      <th>max</th>\n",
       "    </tr>\n",
       "  </thead>\n",
       "  <tbody>\n",
       "    <tr>\n",
       "      <th>transaction_id</th>\n",
       "      <td>99293.0</td>\n",
       "      <td>5.007320e+10</td>\n",
       "      <td>2.899361e+10</td>\n",
       "      <td>3268991.000</td>\n",
       "      <td>2.492150e+10</td>\n",
       "      <td>5.011083e+10</td>\n",
       "      <td>7.528121e+10</td>\n",
       "      <td>9.998755e+10</td>\n",
       "    </tr>\n",
       "    <tr>\n",
       "      <th>cust_id</th>\n",
       "      <td>99293.0</td>\n",
       "      <td>2.710300e+05</td>\n",
       "      <td>2.429334e+03</td>\n",
       "      <td>266783.000</td>\n",
       "      <td>2.689560e+05</td>\n",
       "      <td>2.709820e+05</td>\n",
       "      <td>2.731200e+05</td>\n",
       "      <td>2.752650e+05</td>\n",
       "    </tr>\n",
       "    <tr>\n",
       "      <th>prod_subcat_code</th>\n",
       "      <td>99293.0</td>\n",
       "      <td>6.796894e+00</td>\n",
       "      <td>3.609439e+00</td>\n",
       "      <td>1.000</td>\n",
       "      <td>4.000000e+00</td>\n",
       "      <td>7.000000e+00</td>\n",
       "      <td>1.000000e+01</td>\n",
       "      <td>1.200000e+01</td>\n",
       "    </tr>\n",
       "    <tr>\n",
       "      <th>prod_cat_code</th>\n",
       "      <td>99293.0</td>\n",
       "      <td>4.003243e+00</td>\n",
       "      <td>1.563991e+00</td>\n",
       "      <td>1.000</td>\n",
       "      <td>3.000000e+00</td>\n",
       "      <td>5.000000e+00</td>\n",
       "      <td>5.000000e+00</td>\n",
       "      <td>6.000000e+00</td>\n",
       "    </tr>\n",
       "    <tr>\n",
       "      <th>Qty</th>\n",
       "      <td>99293.0</td>\n",
       "      <td>2.438017e+00</td>\n",
       "      <td>2.260726e+00</td>\n",
       "      <td>-5.000</td>\n",
       "      <td>1.000000e+00</td>\n",
       "      <td>3.000000e+00</td>\n",
       "      <td>4.000000e+00</td>\n",
       "      <td>5.000000e+00</td>\n",
       "    </tr>\n",
       "    <tr>\n",
       "      <th>Rate</th>\n",
       "      <td>99293.0</td>\n",
       "      <td>6.379199e+02</td>\n",
       "      <td>6.215763e+02</td>\n",
       "      <td>-1499.000</td>\n",
       "      <td>3.130000e+02</td>\n",
       "      <td>7.130000e+02</td>\n",
       "      <td>1.109000e+03</td>\n",
       "      <td>1.500000e+03</td>\n",
       "    </tr>\n",
       "    <tr>\n",
       "      <th>Tax</th>\n",
       "      <td>99293.0</td>\n",
       "      <td>2.488737e+02</td>\n",
       "      <td>1.870144e+02</td>\n",
       "      <td>7.350</td>\n",
       "      <td>9.828000e+01</td>\n",
       "      <td>1.999200e+02</td>\n",
       "      <td>3.669750e+02</td>\n",
       "      <td>7.875000e+02</td>\n",
       "    </tr>\n",
       "    <tr>\n",
       "      <th>total_amt</th>\n",
       "      <td>99293.0</td>\n",
       "      <td>2.114616e+03</td>\n",
       "      <td>2.502307e+03</td>\n",
       "      <td>-8270.925</td>\n",
       "      <td>7.624500e+02</td>\n",
       "      <td>1.761370e+03</td>\n",
       "      <td>3.585725e+03</td>\n",
       "      <td>8.287500e+03</td>\n",
       "    </tr>\n",
       "    <tr>\n",
       "      <th>customer_Id</th>\n",
       "      <td>99293.0</td>\n",
       "      <td>2.710300e+05</td>\n",
       "      <td>2.429334e+03</td>\n",
       "      <td>266783.000</td>\n",
       "      <td>2.689560e+05</td>\n",
       "      <td>2.709820e+05</td>\n",
       "      <td>2.731200e+05</td>\n",
       "      <td>2.752650e+05</td>\n",
       "    </tr>\n",
       "    <tr>\n",
       "      <th>city_code</th>\n",
       "      <td>99257.0</td>\n",
       "      <td>5.467221e+00</td>\n",
       "      <td>2.859343e+00</td>\n",
       "      <td>1.000</td>\n",
       "      <td>3.000000e+00</td>\n",
       "      <td>5.000000e+00</td>\n",
       "      <td>8.000000e+00</td>\n",
       "      <td>1.000000e+01</td>\n",
       "    </tr>\n",
       "    <tr>\n",
       "      <th>prod_sub_cat_code</th>\n",
       "      <td>99293.0</td>\n",
       "      <td>6.806985e+00</td>\n",
       "      <td>3.615952e+00</td>\n",
       "      <td>1.000</td>\n",
       "      <td>4.000000e+00</td>\n",
       "      <td>7.000000e+00</td>\n",
       "      <td>1.000000e+01</td>\n",
       "      <td>1.200000e+01</td>\n",
       "    </tr>\n",
       "  </tbody>\n",
       "</table>\n",
       "</div>"
      ],
      "text/plain": [
       "                     count          mean           std          min  \\\n",
       "transaction_id     99293.0  5.007320e+10  2.899361e+10  3268991.000   \n",
       "cust_id            99293.0  2.710300e+05  2.429334e+03   266783.000   \n",
       "prod_subcat_code   99293.0  6.796894e+00  3.609439e+00        1.000   \n",
       "prod_cat_code      99293.0  4.003243e+00  1.563991e+00        1.000   \n",
       "Qty                99293.0  2.438017e+00  2.260726e+00       -5.000   \n",
       "Rate               99293.0  6.379199e+02  6.215763e+02    -1499.000   \n",
       "Tax                99293.0  2.488737e+02  1.870144e+02        7.350   \n",
       "total_amt          99293.0  2.114616e+03  2.502307e+03    -8270.925   \n",
       "customer_Id        99293.0  2.710300e+05  2.429334e+03   266783.000   \n",
       "city_code          99257.0  5.467221e+00  2.859343e+00        1.000   \n",
       "prod_sub_cat_code  99293.0  6.806985e+00  3.615952e+00        1.000   \n",
       "\n",
       "                            25%           50%           75%           max  \n",
       "transaction_id     2.492150e+10  5.011083e+10  7.528121e+10  9.998755e+10  \n",
       "cust_id            2.689560e+05  2.709820e+05  2.731200e+05  2.752650e+05  \n",
       "prod_subcat_code   4.000000e+00  7.000000e+00  1.000000e+01  1.200000e+01  \n",
       "prod_cat_code      3.000000e+00  5.000000e+00  5.000000e+00  6.000000e+00  \n",
       "Qty                1.000000e+00  3.000000e+00  4.000000e+00  5.000000e+00  \n",
       "Rate               3.130000e+02  7.130000e+02  1.109000e+03  1.500000e+03  \n",
       "Tax                9.828000e+01  1.999200e+02  3.669750e+02  7.875000e+02  \n",
       "total_amt          7.624500e+02  1.761370e+03  3.585725e+03  8.287500e+03  \n",
       "customer_Id        2.689560e+05  2.709820e+05  2.731200e+05  2.752650e+05  \n",
       "city_code          3.000000e+00  5.000000e+00  8.000000e+00  1.000000e+01  \n",
       "prod_sub_cat_code  4.000000e+00  7.000000e+00  1.000000e+01  1.200000e+01  "
      ]
     },
     "execution_count": 8,
     "metadata": {},
     "output_type": "execute_result"
    }
   ],
   "source": [
    "#c.\n",
    "customer_final.describe(include=np.number).T"
   ]
  },
  {
   "cell_type": "code",
   "execution_count": 9,
   "id": "fd58604d",
   "metadata": {},
   "outputs": [
    {
     "data": {
      "text/plain": [
       "Mens                   7957\n",
       "Women                  7957\n",
       "Fiction                6069\n",
       "DIY                    6069\n",
       "Comics                 6069\n",
       "Children               6069\n",
       "Non-Fiction            6069\n",
       "Academic               6069\n",
       "Kids                   5959\n",
       "Audio and video        4898\n",
       "Cameras                4898\n",
       "Personal Appliances    4898\n",
       "Computers              4898\n",
       "Mobiles                4898\n",
       "Furnishing             4129\n",
       "Kitchen                4129\n",
       "Bath                   4129\n",
       "Tools                  4129\n",
       "Name: prod_subcat, dtype: int64"
      ]
     },
     "execution_count": 9,
     "metadata": {},
     "output_type": "execute_result"
    }
   ],
   "source": [
    "#d.\n",
    "customer_final.Store_type.value_counts()\n",
    "customer_final.prod_cat.value_counts()\n",
    "customer_final.prod_subcat.value_counts()"
   ]
  },
  {
   "cell_type": "markdown",
   "id": "a4f7d4aa",
   "metadata": {},
   "source": [
    "### 3.\tGenerate histograms for all continuous variables and frequency bars for categorical variables."
   ]
  },
  {
   "cell_type": "markdown",
   "id": "7751ea14",
   "metadata": {},
   "source": [
    "###### Histogram"
   ]
  },
  {
   "cell_type": "code",
   "execution_count": 10,
   "id": "295de017",
   "metadata": {},
   "outputs": [
    {
     "data": {
      "text/plain": [
       "<AxesSubplot:>"
      ]
     },
     "execution_count": 10,
     "metadata": {},
     "output_type": "execute_result"
    },
    {
     "data": {
      "image/png": "[encoded data removed]",
      "text/plain": [
       "<Figure size 432x288 with 1 Axes>"
      ]
     },
     "metadata": {
      "needs_background": "light"
     },
     "output_type": "display_data"
    }
   ],
   "source": [
    "numcol = customer_final.select_dtypes(include=('int64','float64'))\n",
    "numcol.total_amt.hist()"
   ]
  },
  {
   "cell_type": "code",
   "execution_count": 11,
   "id": "22cc2a05",
   "metadata": {},
   "outputs": [
    {
     "data": {
      "text/plain": [
       "<AxesSubplot:>"
      ]
     },
     "execution_count": 11,
     "metadata": {},
     "output_type": "execute_result"
    },
    {
     "data": {
      "image/png": "[encoded data removed]",
      "text/plain": [
       "<Figure size 432x288 with 1 Axes>"
      ]
     },
     "metadata": {
      "needs_background": "light"
     },
     "output_type": "display_data"
    }
   ],
   "source": [
    "numcol.Tax.hist()"
   ]
  },
  {
   "cell_type": "code",
   "execution_count": 12,
   "id": "ed03ac22",
   "metadata": {},
   "outputs": [
    {
     "data": {
      "text/plain": [
       "<AxesSubplot:>"
      ]
     },
     "execution_count": 12,
     "metadata": {},
     "output_type": "execute_result"
    },
    {
     "data": {
      "image/png": "[encoded data removed]",
      "text/plain": [
       "<Figure size 432x288 with 1 Axes>"
      ]
     },
     "metadata": {
      "needs_background": "light"
     },
     "output_type": "display_data"
    }
   ],
   "source": [
    "numcol.Rate.hist()"
   ]
  },
  {
   "cell_type": "markdown",
   "id": "910491ed",
   "metadata": {},
   "source": [
    "###### Frequency Bar"
   ]
  },
  {
   "cell_type": "code",
   "execution_count": 22,
   "id": "dd7eee99",
   "metadata": {},
   "outputs": [
    {
     "data": {
      "text/plain": [
       "<AxesSubplot:xlabel='Store_type', ylabel='count'>"
      ]
     },
     "execution_count": 22,
     "metadata": {},
     "output_type": "execute_result"
    },
    {
     "data": {
      "image/png": "[encoded data removed]",
      "text/plain": [
       "<Figure size 432x288 with 1 Axes>"
      ]
     },
     "metadata": {
      "needs_background": "light"
     },
     "output_type": "display_data"
    }
   ],
   "source": [
    "sns.countplot(x = customer_final.Store_type)"
   ]
  },
  {
   "cell_type": "code",
   "execution_count": 23,
   "id": "3282f81b",
   "metadata": {},
   "outputs": [
    {
     "data": {
      "text/plain": [
       "<AxesSubplot:xlabel='Gender', ylabel='count'>"
      ]
     },
     "execution_count": 23,
     "metadata": {},
     "output_type": "execute_result"
    },
    {
     "data": {
      "image/png": "[encoded data removed]",
      "text/plain": [
       "<Figure size 432x288 with 1 Axes>"
      ]
     },
     "metadata": {
      "needs_background": "light"
     },
     "output_type": "display_data"
    }
   ],
   "source": [
    "sns.countplot(x = customer_final.Gender)"
   ]
  },
  {
   "cell_type": "code",
   "execution_count": 24,
   "id": "faacef09",
   "metadata": {},
   "outputs": [
    {
     "data": {
      "text/plain": [
       "<AxesSubplot:xlabel='prod_cat', ylabel='count'>"
      ]
     },
     "execution_count": 24,
     "metadata": {},
     "output_type": "execute_result"
    },
    {
     "data": {
      "image/png": "[encoded data removed]",
      "text/plain": [
       "<Figure size 432x288 with 1 Axes>"
      ]
     },
     "metadata": {
      "needs_background": "light"
     },
     "output_type": "display_data"
    }
   ],
   "source": [
    "sns.countplot(x = customer_final.prod_cat)"
   ]
  },
  {
   "cell_type": "code",
   "execution_count": 26,
   "id": "b2d66615",
   "metadata": {},
   "outputs": [
    {
     "data": {
      "text/plain": [
       "<AxesSubplot:xlabel='count', ylabel='prod_subcat'>"
      ]
     },
     "execution_count": 26,
     "metadata": {},
     "output_type": "execute_result"
    },
    {
     "data": {
      "image/png": "[encoded data removed]",
      "text/plain": [
       "<Figure size 432x288 with 1 Axes>"
      ]
     },
     "metadata": {
      "needs_background": "light"
     },
     "output_type": "display_data"
    }
   ],
   "source": [
    "sns.countplot(y = customer_final.prod_subcat)"
   ]
  },
  {
   "cell_type": "markdown",
   "id": "9c87ce51",
   "metadata": {},
   "source": [
    "### 4.\tCalculate the following information using the merged dataset :\n",
    "##### a.Time period of the available transaction data\n",
    "##### b.Count of transactions where the total amount of transaction was negative\n"
   ]
  },
  {
   "cell_type": "code",
   "execution_count": 40,
   "id": "b04c4ac0",
   "metadata": {},
   "outputs": [],
   "source": [
    "customer_final.tran_date =  pd.to_datetime(customer_final.tran_date)\n",
    "customer_final.DOB =  pd.to_datetime(customer_final.DOB)"
   ]
  },
  {
   "cell_type": "code",
   "execution_count": 49,
   "id": "a8b81618",
   "metadata": {},
   "outputs": [
    {
     "data": {
      "text/plain": [
       "Timedelta('1430 days 00:00:00')"
      ]
     },
     "execution_count": 49,
     "metadata": {},
     "output_type": "execute_result"
    }
   ],
   "source": [
    "#a.\n",
    "(customer_final.tran_date.max() - customer_final.tran_date.min())"
   ]
  },
  {
   "cell_type": "code",
   "execution_count": 64,
   "id": "739ed82e",
   "metadata": {},
   "outputs": [
    {
     "data": {
      "text/plain": [
       "9294"
      ]
     },
     "execution_count": 64,
     "metadata": {},
     "output_type": "execute_result"
    }
   ],
   "source": [
    "#b.\n",
    "customer_final.loc[customer_final.total_amt<0].transaction_id.count()"
   ]
  },
  {
   "cell_type": "markdown",
   "id": "36bafee5",
   "metadata": {},
   "source": [
    "### 5.\tAnalyze which product categories are more popular among females vs male customers."
   ]
  },
  {
   "cell_type": "code",
   "execution_count": 81,
   "id": "34374044",
   "metadata": {},
   "outputs": [
    {
     "data": {
      "text/plain": [
       "prod_cat\n",
       "Books    17694\n",
       "Name: Gender, dtype: int64"
      ]
     },
     "execution_count": 81,
     "metadata": {},
     "output_type": "execute_result"
    }
   ],
   "source": [
    "customer_final.loc[customer_final.Gender == 'F'].groupby('prod_cat').Gender.count().sort_values(ascending=False).head(1)"
   ]
  },
  {
   "cell_type": "code",
   "execution_count": 82,
   "id": "c676a8e7",
   "metadata": {},
   "outputs": [
    {
     "data": {
      "text/plain": [
       "prod_cat\n",
       "Books    18696\n",
       "Name: Gender, dtype: int64"
      ]
     },
     "execution_count": 82,
     "metadata": {},
     "output_type": "execute_result"
    }
   ],
   "source": [
    "customer_final.loc[customer_final.Gender == 'M'].groupby('prod_cat').Gender.count().sort_values(ascending=False).head(1)"
   ]
  },
  {
   "cell_type": "markdown",
   "id": "ee6df82b",
   "metadata": {},
   "source": [
    "### 6.\tWhich City code has the maximum customers and what was the percentage of customers from that city?"
   ]
  },
  {
   "cell_type": "code",
   "execution_count": 104,
   "id": "e0f07797",
   "metadata": {},
   "outputs": [],
   "source": [
    "cust = customer_final.groupby('city_code').cust_id.count().sort_values(ascending=False).head(1).to_frame()\n",
    "cust.rename(columns={'cust_id':'CNT'},inplace = True)\n",
    "cust['Percent'] = cust.CNT.values/customer_final.cust_id.count() *100"
   ]
  },
  {
   "cell_type": "code",
   "execution_count": 111,
   "id": "27c5130f",
   "metadata": {},
   "outputs": [
    {
     "data": {
      "text/html": [
       "<div>\n",
       "<style scoped>\n",
       "    .dataframe tbody tr th:only-of-type {\n",
       "        vertical-align: middle;\n",
       "    }\n",
       "\n",
       "    .dataframe tbody tr th {\n",
       "        vertical-align: top;\n",
       "    }\n",
       "\n",
       "    .dataframe thead th {\n",
       "        text-align: right;\n",
       "    }\n",
       "</style>\n",
       "<table border=\"1\" class=\"dataframe\">\n",
       "  <thead>\n",
       "    <tr style=\"text-align: right;\">\n",
       "      <th></th>\n",
       "      <th>CNT</th>\n",
       "      <th>Percent</th>\n",
       "    </tr>\n",
       "    <tr>\n",
       "      <th>city_code</th>\n",
       "      <th></th>\n",
       "      <th></th>\n",
       "    </tr>\n",
       "  </thead>\n",
       "  <tbody>\n",
       "    <tr>\n",
       "      <th>4.0</th>\n",
       "      <td>10571</td>\n",
       "      <td>10.646269</td>\n",
       "    </tr>\n",
       "  </tbody>\n",
       "</table>\n",
       "</div>"
      ],
      "text/plain": [
       "             CNT    Percent\n",
       "city_code                  \n",
       "4.0        10571  10.646269"
      ]
     },
     "execution_count": 111,
     "metadata": {},
     "output_type": "execute_result"
    }
   ],
   "source": [
    "cust"
   ]
  },
  {
   "cell_type": "markdown",
   "id": "968f7fe3",
   "metadata": {},
   "source": [
    "### 7.\tWhich store type sells the maximum products by value and by quantity?"
   ]
  },
  {
   "cell_type": "code",
   "execution_count": 125,
   "id": "be331f78",
   "metadata": {},
   "outputs": [
    {
     "data": {
      "text/html": [
       "<div>\n",
       "<style scoped>\n",
       "    .dataframe tbody tr th:only-of-type {\n",
       "        vertical-align: middle;\n",
       "    }\n",
       "\n",
       "    .dataframe tbody tr th {\n",
       "        vertical-align: top;\n",
       "    }\n",
       "\n",
       "    .dataframe thead th {\n",
       "        text-align: right;\n",
       "    }\n",
       "</style>\n",
       "<table border=\"1\" class=\"dataframe\">\n",
       "  <thead>\n",
       "    <tr style=\"text-align: right;\">\n",
       "      <th></th>\n",
       "      <th>Qty</th>\n",
       "      <th>total_amt</th>\n",
       "    </tr>\n",
       "    <tr>\n",
       "      <th>Store_type</th>\n",
       "      <th></th>\n",
       "      <th></th>\n",
       "    </tr>\n",
       "  </thead>\n",
       "  <tbody>\n",
       "    <tr>\n",
       "      <th>e-Shop</th>\n",
       "      <td>98447</td>\n",
       "      <td>8.591575e+07</td>\n",
       "    </tr>\n",
       "    <tr>\n",
       "      <th>MBR</th>\n",
       "      <td>48285</td>\n",
       "      <td>4.170033e+07</td>\n",
       "    </tr>\n",
       "    <tr>\n",
       "      <th>Flagship store</th>\n",
       "      <td>48007</td>\n",
       "      <td>4.188397e+07</td>\n",
       "    </tr>\n",
       "    <tr>\n",
       "      <th>TeleShop</th>\n",
       "      <td>47339</td>\n",
       "      <td>4.046656e+07</td>\n",
       "    </tr>\n",
       "  </tbody>\n",
       "</table>\n",
       "</div>"
      ],
      "text/plain": [
       "                  Qty     total_amt\n",
       "Store_type                         \n",
       "e-Shop          98447  8.591575e+07\n",
       "MBR             48285  4.170033e+07\n",
       "Flagship store  48007  4.188397e+07\n",
       "TeleShop        47339  4.046656e+07"
      ]
     },
     "execution_count": 125,
     "metadata": {},
     "output_type": "execute_result"
    }
   ],
   "source": [
    "MAX = customer_final.groupby('Store_type')[['Qty','total_amt']].agg({'Qty':'sum','total_amt':'sum'})\n",
    "MAX.sort_values(['Qty','total_amt'],ascending=False)"
   ]
  },
  {
   "cell_type": "markdown",
   "id": "9c616eb2",
   "metadata": {},
   "source": [
    "### 8.\tWhat was the total amount earned from the \"Electronics\" and \"Clothing\" categories from Flagship Stores?"
   ]
  },
  {
   "cell_type": "code",
   "execution_count": 133,
   "id": "a3b47932",
   "metadata": {},
   "outputs": [
    {
     "data": {
      "text/plain": [
       "14658949.89"
      ]
     },
     "execution_count": 133,
     "metadata": {},
     "output_type": "execute_result"
    }
   ],
   "source": [
    "customer_final.loc[((customer_final.Store_type== 'Flagship store') & ((customer_final.prod_cat=='Electronics')\n",
    "                  |(customer_final.prod_cat=='Clothing')))].total_amt.sum()"
   ]
  },
  {
   "cell_type": "markdown",
   "id": "f06d121f",
   "metadata": {},
   "source": [
    "### 9.\tWhat was the total amount earned from \"Male\" customers under the \"Electronics\" category?"
   ]
  },
  {
   "cell_type": "code",
   "execution_count": 136,
   "id": "6804bee0",
   "metadata": {},
   "outputs": [
    {
     "data": {
      "text/plain": [
       "28515547.125"
      ]
     },
     "execution_count": 136,
     "metadata": {},
     "output_type": "execute_result"
    }
   ],
   "source": [
    "customer_final.loc[((customer_final.Gender=='M') & (customer_final.prod_cat=='Electronics'))].total_amt.sum()"
   ]
  },
  {
   "cell_type": "markdown",
   "id": "e58b4c62",
   "metadata": {},
   "source": [
    "### 10.\tHow many customers have more than 10 unique transactions, after removing all transactions which have any negative amounts?"
   ]
  },
  {
   "cell_type": "code",
   "execution_count": 147,
   "id": "b1bd400e",
   "metadata": {},
   "outputs": [],
   "source": [
    "unique = customer_final[customer_final.total_amt > 0].groupby('cust_id').transaction_id.count()\n",
    "unique[unique.values > 10].shape[0]"
   ]
  },
  {
   "cell_type": "markdown",
   "id": "3aaed786",
   "metadata": {},
   "source": [
    "### 11.\tFor all customers aged between 25 - 35, find out:\n",
    "##### a.What was the total amount spent for “Electronics” and “Books” product categories?\n",
    "##### b.What was the total amount spent by these customers between 1st Jan, 2014 to 1st Mar, 2014?\n"
   ]
  },
  {
   "cell_type": "code",
   "execution_count": 195,
   "id": "ee84acf3",
   "metadata": {},
   "outputs": [],
   "source": [
    "cust_age = customer_final\n",
    "cust_age['Age'] = round((customer_final.tran_date.max() - customer_final.DOB).astype('timedelta64[D]')/365.25,0)"
   ]
  },
  {
   "cell_type": "code",
   "execution_count": 205,
   "id": "68939c49",
   "metadata": {},
   "outputs": [
    {
     "data": {
      "text/plain": [
       "51160949.71"
      ]
     },
     "execution_count": 205,
     "metadata": {},
     "output_type": "execute_result"
    }
   ],
   "source": [
    "#a.\n",
    "cust_age[((cust_age.Age > 25) & (cust_age.Age < 35)) & \n",
    "         ((cust_age.prod_cat == 'Electronics') | (cust_age.prod_cat == 'Books')) ].total_amt.sum()"
   ]
  },
  {
   "cell_type": "code",
   "execution_count": 210,
   "id": "3b98c9a0",
   "metadata": {},
   "outputs": [
    {
     "data": {
      "text/plain": [
       "82409902.18499999"
      ]
     },
     "execution_count": 210,
     "metadata": {},
     "output_type": "execute_result"
    }
   ],
   "source": [
    "#b.\n",
    "cust_age[((cust_age.Age > 25) & (cust_age.Age < 35)) & \n",
    "         ((cust_age.tran_date >= '2014-01-01') | (cust_age.tran_date <= '2014-03-01')) ].total_amt.sum()"
   ]
  }
 ],
 "metadata": {
  "kernelspec": {
   "display_name": "Python 3 (ipykernel)",
   "language": "python",
   "name": "python3"
  },
  "language_info": {
   "codemirror_mode": {
    "name": "ipython",
    "version": 3
   },
   "file_extension": ".py",
   "mimetype": "text/x-python",
   "name": "python",
   "nbconvert_exporter": "python",
   "pygments_lexer": "ipython3",
   "version": "3.9.7"
  }
 },
 "nbformat": 4,
 "nbformat_minor": 5
}
